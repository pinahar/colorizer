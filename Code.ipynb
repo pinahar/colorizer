{
 "cells": [
  {
   "cell_type": "code",
   "execution_count": 1,
   "metadata": {
    "collapsed": false
   },
   "outputs": [
    {
     "name": "stderr",
     "output_type": "stream",
     "text": [
      "Using TensorFlow backend.\n"
     ]
    }
   ],
   "source": [
    "import keras\n",
    "from keras.applications import VGG16\n",
    "from keras.models import Model\n",
    "from keras.layers.pooling import MaxPooling2D\n",
    "from keras.preprocessing.image import ImageDataGenerator, array_to_img, img_to_array, load_img\n",
    "from keras.models import Sequential\n",
    "from keras.layers import Convolution2D, MaxPooling2D, UpSampling2D\n",
    "from keras.layers import Activation, Dropout, Flatten, Dense\n",
    "from keras.applications.vgg16 import VGG16\n",
    "import os\n",
    "import numpy as np\n",
    "from keras.applications.imagenet_utils import preprocess_input \n",
    "from keras.utils import np_utils\n",
    "import random\n",
    "import pprint\n",
    "import cPickle\n",
    "from scipy.misc import imread, imresize, imsave\n",
    "from keras.layers.normalization import BatchNormalization\n",
    "from keras import backend as K\n",
    "from keras.engine.topology import Merge, merge"
   ]
  },
  {
   "cell_type": "code",
   "execution_count": 2,
   "metadata": {
    "collapsed": true
   },
   "outputs": [],
   "source": [
    "train_datagen = ImageDataGenerator(\n",
    "        featurewise_center=True,\n",
    "        rescale=1./255,\n",
    "        dim_ordering='tf')"
   ]
  },
  {
   "cell_type": "code",
   "execution_count": 3,
   "metadata": {
    "collapsed": false
   },
   "outputs": [],
   "source": [
    "def rgb_to_yuv(inp):\n",
    "    cnv = np.array([[0.299, 0.587, 0.114], [-0.14713, -0.28886, 0.436], [0.615, -0.51499, -0.10001]])\n",
    "    return np.dot(inp, cnv.T)\n",
    "\n",
    "random.seed(0)\n",
    "\n",
    "X_train = []\n",
    "Y_train = []\n",
    "\n",
    "for directory in os.listdir('./data/'):\n",
    "    for i,image in enumerate(random.sample(os.listdir('./data/' + directory),3)):\n",
    "        img = load_img('./data/' + directory + '/' + image, target_size=(224,224))  # this is a PIL image\n",
    "        x = img_to_array(img)\n",
    "        x_yuv = rgb_to_yuv(x)\n",
    "        Y_train.append(x_yuv[:,:,1:])\n",
    "        X_train.append(x_yuv[:,:,:1])\n",
    "X_train = np.array(X_train)\n",
    "Y_train = np.array(Y_train)"
   ]
  },
  {
   "cell_type": "code",
   "execution_count": 4,
   "metadata": {
    "collapsed": false
   },
   "outputs": [
    {
     "data": {
      "text/plain": [
       "(33, 224, 224, 3)"
      ]
     },
     "execution_count": 4,
     "metadata": {},
     "output_type": "execute_result"
    }
   ],
   "source": [
    "XX_train = np.zeros((X_train.shape[0], X_train.shape[1], X_train.shape[2], X_train.shape[3] + 2))\n",
    "XX_train[:,:,:,0:] = X_train\n",
    "XX_train.shape"
   ]
  },
  {
   "cell_type": "code",
   "execution_count": 5,
   "metadata": {
    "collapsed": true
   },
   "outputs": [],
   "source": [
    "def getModel():\n",
    "    ''' \n",
    "        * return: compiled model (keras.engine.training.Model)\n",
    "    '''\n",
    "    vgg_model = VGG16( weights='imagenet', include_top=True )\n",
    "    for i in range(9):\n",
    "        vgg_model.layers.pop()    \n",
    "    \n",
    "    bnl = BatchNormalization() (vgg_model.layers[-1].output)\n",
    "    cnl = Convolution2D(256, 1, 1, border_mode='same') (bnl)\n",
    "    usl = UpSampling2D() (cnl)\n",
    "    bnl = BatchNormalization() (vgg_model.layers[-5].output)\n",
    "    ml = merge([usl, bnl], mode='sum')\n",
    "    cnl = Convolution2D(128, 3, 3, border_mode='same') (ml)\n",
    "\n",
    "    usl = UpSampling2D() (cnl)\n",
    "    bnl = BatchNormalization() (vgg_model.layers[-9].output)\n",
    "    ml = merge([usl, bnl], mode='sum')\n",
    "    cnl = Convolution2D(64, 3, 3, border_mode='same') (ml)\n",
    "\n",
    "    usl = UpSampling2D() (cnl)\n",
    "    bnl = BatchNormalization() (vgg_model.layers[-12].output)\n",
    "    ml = merge([usl, bnl], mode='sum')\n",
    "    cnl = Convolution2D(3, 3, 3, border_mode='same') (ml)\n",
    "\n",
    "    bnl = BatchNormalization() (vgg_model.layers[-14].output)\n",
    "    ml = merge([cnl, bnl], mode='sum')\n",
    "    cnl = Convolution2D(3, 3, 3, border_mode='same') (ml)\n",
    "\n",
    "    cnl = Convolution2D(2, 3, 3, border_mode='same') (cnl)\n",
    "\n",
    "    tl_model = Model( input=vgg_model.input, output=cnl )\n",
    "    for i in range(1, 14):\n",
    "        tl_model.layers[i].trainable = False\n",
    "\n",
    "    return tl_model"
   ]
  },
  {
   "cell_type": "code",
   "execution_count": 6,
   "metadata": {
    "collapsed": true
   },
   "outputs": [],
   "source": [
    "##loss function\n",
    "\n",
    "# def blur_uv_loss(rgb, inferred_rgb):\n",
    "#     uv = rgb2uv(rgb)\n",
    "#     uv_blur0 = rgb2uv(blur(rgb, 3))\n",
    "#     uv_blur1 = rgb2uv(blur(rgb, 5))\n",
    "\n",
    "#     inferred_uv = rgb2uv(inferred_rgb)\n",
    "#     inferred_uv_blur0 = rgb2uv(blur(inferred_rgb, 3))\n",
    "#     inferred_uv_blur1 = rgb2uv(blur(inferred_rgb, 5))\n",
    "\n",
    "#     return  ( dist(inferred_uv, uv) +\n",
    "#             dist(inferred_uv_blur0 , uv_blur0) +\n",
    "#             dist(inferred_uv_blur1, uv_blur1) ) / 3"
   ]
  },
  {
   "cell_type": "code",
   "execution_count": 7,
   "metadata": {
    "collapsed": false
   },
   "outputs": [
    {
     "name": "stdout",
     "output_type": "stream",
     "text": [
      "____________________________________________________________________________________________________\n",
      "Layer (type)                     Output Shape          Param #     Connected to                     \n",
      "====================================================================================================\n",
      "input_1 (InputLayer)             (None, 224, 224, 3)   0                                            \n",
      "____________________________________________________________________________________________________\n",
      "block1_conv1 (Convolution2D)     (None, 224, 224, 64)  1792        input_1[0][0]                    \n",
      "____________________________________________________________________________________________________\n",
      "block1_conv2 (Convolution2D)     (None, 224, 224, 64)  36928       block1_conv1[0][0]               \n",
      "____________________________________________________________________________________________________\n",
      "block1_pool (MaxPooling2D)       (None, 112, 112, 64)  0           block1_conv2[0][0]               \n",
      "____________________________________________________________________________________________________\n",
      "block2_conv1 (Convolution2D)     (None, 112, 112, 128) 73856       block1_pool[0][0]                \n",
      "____________________________________________________________________________________________________\n",
      "block2_conv2 (Convolution2D)     (None, 112, 112, 128) 147584      block2_conv1[0][0]               \n",
      "____________________________________________________________________________________________________\n",
      "block2_pool (MaxPooling2D)       (None, 56, 56, 128)   0           block2_conv2[0][0]               \n",
      "____________________________________________________________________________________________________\n",
      "block3_conv1 (Convolution2D)     (None, 56, 56, 256)   295168      block2_pool[0][0]                \n",
      "____________________________________________________________________________________________________\n",
      "block3_conv2 (Convolution2D)     (None, 56, 56, 256)   590080      block3_conv1[0][0]               \n",
      "____________________________________________________________________________________________________\n",
      "block3_conv3 (Convolution2D)     (None, 56, 56, 256)   590080      block3_conv2[0][0]               \n",
      "____________________________________________________________________________________________________\n",
      "block3_pool (MaxPooling2D)       (None, 28, 28, 256)   0           block3_conv3[0][0]               \n",
      "____________________________________________________________________________________________________\n",
      "block4_conv1 (Convolution2D)     (None, 28, 28, 512)   1180160     block3_pool[0][0]                \n",
      "____________________________________________________________________________________________________\n",
      "block4_conv2 (Convolution2D)     (None, 28, 28, 512)   2359808     block4_conv1[0][0]               \n",
      "____________________________________________________________________________________________________\n",
      "block4_conv3 (Convolution2D)     (None, 28, 28, 512)   2359808     block4_conv2[0][0]               \n",
      "____________________________________________________________________________________________________\n",
      "batchnormalization_1 (BatchNorma (None, 28, 28, 512)   2048        block4_conv3[0][0]               \n",
      "____________________________________________________________________________________________________\n",
      "convolution2d_1 (Convolution2D)  (None, 28, 28, 256)   131328      batchnormalization_1[0][0]       \n",
      "____________________________________________________________________________________________________\n",
      "upsampling2d_1 (UpSampling2D)    (None, 56, 56, 256)   0           convolution2d_1[0][0]            \n",
      "____________________________________________________________________________________________________\n",
      "batchnormalization_2 (BatchNorma (None, 56, 56, 256)   1024        block3_conv3[0][0]               \n",
      "____________________________________________________________________________________________________\n",
      "merge_1 (Merge)                  (None, 56, 56, 256)   0           upsampling2d_1[0][0]             \n",
      "                                                                   batchnormalization_2[0][0]       \n",
      "____________________________________________________________________________________________________\n",
      "convolution2d_2 (Convolution2D)  (None, 56, 56, 128)   295040      merge_1[0][0]                    \n",
      "____________________________________________________________________________________________________\n",
      "upsampling2d_2 (UpSampling2D)    (None, 112, 112, 128) 0           convolution2d_2[0][0]            \n",
      "____________________________________________________________________________________________________\n",
      "batchnormalization_3 (BatchNorma (None, 112, 112, 128) 512         block2_conv2[0][0]               \n",
      "____________________________________________________________________________________________________\n",
      "merge_2 (Merge)                  (None, 112, 112, 128) 0           upsampling2d_2[0][0]             \n",
      "                                                                   batchnormalization_3[0][0]       \n",
      "____________________________________________________________________________________________________\n",
      "convolution2d_3 (Convolution2D)  (None, 112, 112, 64)  73792       merge_2[0][0]                    \n",
      "____________________________________________________________________________________________________\n",
      "upsampling2d_3 (UpSampling2D)    (None, 224, 224, 64)  0           convolution2d_3[0][0]            \n",
      "____________________________________________________________________________________________________\n",
      "batchnormalization_4 (BatchNorma (None, 224, 224, 64)  256         block1_conv2[0][0]               \n",
      "____________________________________________________________________________________________________\n",
      "merge_3 (Merge)                  (None, 224, 224, 64)  0           upsampling2d_3[0][0]             \n",
      "                                                                   batchnormalization_4[0][0]       \n",
      "____________________________________________________________________________________________________\n",
      "convolution2d_4 (Convolution2D)  (None, 224, 224, 3)   1731        merge_3[0][0]                    \n",
      "____________________________________________________________________________________________________\n",
      "batchnormalization_5 (BatchNorma (None, 224, 224, 3)   12          input_1[0][0]                    \n",
      "____________________________________________________________________________________________________\n",
      "merge_4 (Merge)                  (None, 224, 224, 3)   0           convolution2d_4[0][0]            \n",
      "                                                                   batchnormalization_5[0][0]       \n",
      "____________________________________________________________________________________________________\n",
      "convolution2d_5 (Convolution2D)  (None, 224, 224, 3)   84          merge_4[0][0]                    \n",
      "____________________________________________________________________________________________________\n",
      "convolution2d_6 (Convolution2D)  (None, 224, 224, 2)   56          convolution2d_5[0][0]            \n",
      "====================================================================================================\n",
      "Total params: 8,141,147\n",
      "Trainable params: 503,957\n",
      "Non-trainable params: 7,637,190\n",
      "____________________________________________________________________________________________________\n"
     ]
    }
   ],
   "source": [
    "tl_model = getModel()\n",
    "# pprint.PrettyPrinter(indent=2).pprint(tl_model.get_config())\n",
    "tl_model.summary()\n",
    "\n",
    "tl_model.compile(loss=\"mse\", optimizer=\"adagrad\", metrics=[\"acc\"])"
   ]
  },
  {
   "cell_type": "code",
   "execution_count": 8,
   "metadata": {
    "collapsed": true
   },
   "outputs": [],
   "source": [
    "train_datagen.fit(X_train)"
   ]
  },
  {
   "cell_type": "code",
   "execution_count": null,
   "metadata": {
    "collapsed": false
   },
   "outputs": [
    {
     "name": "stdout",
     "output_type": "stream",
     "text": [
      "Epoch 1/20\n",
      "33/33 [==============================] - 83s - loss: 1936.3419 - acc: 0.4788    "
     ]
    }
   ],
   "source": [
    "# history = tl_model.fit_generator(train_datagen.flow(X_train,Y_train,batch_size=88), samples_per_epoch=88, nb_epoch=50, validation_data=(X_valid,Y_valid), verbose=1)\n",
    "\n",
    "history = tl_model.fit(XX_train,Y_train,batch_size=22, nb_epoch=20, verbose=1, shuffle=True)\n",
    "\n",
    "# tl_model.save(filepath='./output/urban_2_images')\n",
    "# cPickle.dump( history.history, open( \"urbnan_2_images.p\", \"wb\" ) )"
   ]
  },
  {
   "cell_type": "code",
   "execution_count": null,
   "metadata": {
    "collapsed": true
   },
   "outputs": [],
   "source": []
  }
 ],
 "metadata": {
  "kernelspec": {
   "display_name": "Python 2",
   "language": "python",
   "name": "python2"
  },
  "language_info": {
   "codemirror_mode": {
    "name": "ipython",
    "version": 2
   },
   "file_extension": ".py",
   "mimetype": "text/x-python",
   "name": "python",
   "nbconvert_exporter": "python",
   "pygments_lexer": "ipython2",
   "version": "2.7.10"
  }
 },
 "nbformat": 4,
 "nbformat_minor": 0
}
